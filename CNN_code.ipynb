{
 "cells": [
  {
   "cell_type": "code",
   "execution_count": 1,
   "id": "e2f60422",
   "metadata": {},
   "outputs": [],
   "source": [
    "import numpy as np\n",
    "import os\n",
    "\n",
    "import keras,os\n",
    "from tensorflow.keras.models import Sequential\n",
    "from keras.layers import Dense, Conv2D, MaxPool2D , Flatten\n",
    "from keras.preprocessing.image import ImageDataGenerator\n",
    "import numpy as np"
   ]
  },
  {
   "cell_type": "code",
   "execution_count": 2,
   "id": "93c5f2e7",
   "metadata": {},
   "outputs": [],
   "source": [
    "from tensorflow.keras import Model\n",
    "from tensorflow.keras import layers\n",
    "from tensorflow.keras import activations"
   ]
  },
  {
   "cell_type": "code",
   "execution_count": 3,
   "id": "fdd416bf",
   "metadata": {},
   "outputs": [],
   "source": [
    "from tensorflow.keras import regularizers"
   ]
  },
  {
   "cell_type": "code",
   "execution_count": 4,
   "id": "17cf161e",
   "metadata": {},
   "outputs": [],
   "source": [
    "x_train = []\n",
    "y_train = []\n",
    "x_test = []\n",
    "y_test = []"
   ]
  },
  {
   "cell_type": "code",
   "execution_count": 5,
   "id": "79d66b5c",
   "metadata": {},
   "outputs": [
    {
     "data": {
      "text/plain": [
       "['test_set', 'training_set']"
      ]
     },
     "execution_count": 5,
     "metadata": {},
     "output_type": "execute_result"
    }
   ],
   "source": [
    "dir = 'C:\\\\Users\\\\Dear\\\\Desktop\\\\FYP\\\\Testcode3-HOG\\\\HOG-master\\\\resized_images\\\\'\n",
    "os.listdir(dir)"
   ]
  },
  {
   "cell_type": "code",
   "execution_count": 17,
   "id": "f65bfcb5",
   "metadata": {},
   "outputs": [],
   "source": [
    "def normalize(v):\n",
    "    norm = np.linalg.norm(v)\n",
    "    if norm == 0: \n",
    "        return v\n",
    "    return v / norm"
   ]
  },
  {
   "cell_type": "code",
   "execution_count": 6,
   "id": "0fe70f8b",
   "metadata": {},
   "outputs": [],
   "source": [
    "import matplotlib.pyplot as plt"
   ]
  },
  {
   "cell_type": "code",
   "execution_count": 7,
   "id": "cbed8626",
   "metadata": {},
   "outputs": [],
   "source": [
    "train_path = os.path.join(dir,os.listdir(dir)[1])\n",
    "\n",
    "for i, j in enumerate(os.listdir(train_path)):\n",
    "    class_path = os.path.join(train_path,j)\n",
    "    for arr in os.listdir(class_path):\n",
    "        nparr=plt.imread(os.path.join(class_path,arr))\n",
    "        x_train.append(nparr)\n",
    "        y_train.append(i)"
   ]
  },
  {
   "cell_type": "code",
   "execution_count": 8,
   "id": "6fbe1d8c",
   "metadata": {},
   "outputs": [],
   "source": [
    "x_train = np.array(x_train)"
   ]
  },
  {
   "cell_type": "code",
   "execution_count": 9,
   "id": "29fa619e",
   "metadata": {},
   "outputs": [],
   "source": [
    "y_train = np.array(y_train)"
   ]
  },
  {
   "cell_type": "code",
   "execution_count": null,
   "id": "e643e785",
   "metadata": {},
   "outputs": [],
   "source": []
  },
  {
   "cell_type": "code",
   "execution_count": 10,
   "id": "ee808736",
   "metadata": {},
   "outputs": [],
   "source": [
    "test_path = os.path.join(dir,os.listdir(dir)[0])\n",
    "\n",
    "for i, j in enumerate(os.listdir(test_path)):\n",
    "    class_path = os.path.join(test_path,j)\n",
    "    for arr in os.listdir(class_path):\n",
    "        nparr=plt.imread(os.path.join(class_path,arr))\n",
    "        x_test.append(nparr)\n",
    "        y_test.append(i)"
   ]
  },
  {
   "cell_type": "code",
   "execution_count": 11,
   "id": "9dd03f7b",
   "metadata": {},
   "outputs": [],
   "source": [
    "x_test = np.array(x_test)"
   ]
  },
  {
   "cell_type": "code",
   "execution_count": 12,
   "id": "90c7ec1c",
   "metadata": {},
   "outputs": [],
   "source": [
    "y_test = np.array(y_test)"
   ]
  },
  {
   "cell_type": "code",
   "execution_count": null,
   "id": "3309b281",
   "metadata": {},
   "outputs": [],
   "source": []
  },
  {
   "cell_type": "code",
   "execution_count": 13,
   "id": "1fd96017",
   "metadata": {},
   "outputs": [],
   "source": [
    "import tensorflow as tf\n",
    "y_train = tf.keras.utils.to_categorical(y_train,10)\n",
    "y_test = tf.keras.utils.to_categorical(y_test,10)"
   ]
  },
  {
   "cell_type": "code",
   "execution_count": null,
   "id": "c9833007",
   "metadata": {},
   "outputs": [],
   "source": []
  },
  {
   "cell_type": "code",
   "execution_count": 14,
   "id": "3f85dfa8",
   "metadata": {},
   "outputs": [],
   "source": [
    "from sklearn.utils import shuffle"
   ]
  },
  {
   "cell_type": "code",
   "execution_count": 15,
   "id": "4c0211d0",
   "metadata": {},
   "outputs": [],
   "source": [
    "x_train, y_train= shuffle(x_train, y_train, random_state=42)"
   ]
  },
  {
   "cell_type": "code",
   "execution_count": 16,
   "id": "77508eb8",
   "metadata": {},
   "outputs": [],
   "source": [
    "x_test, y_test= shuffle(x_test, y_test, random_state=42)"
   ]
  },
  {
   "cell_type": "code",
   "execution_count": 17,
   "id": "e5e256b9",
   "metadata": {},
   "outputs": [
    {
     "name": "stdout",
     "output_type": "stream",
     "text": [
      "(900, 32, 32, 3)\n",
      "(900, 10)\n",
      "(100, 32, 32, 3)\n",
      "(100, 10)\n"
     ]
    }
   ],
   "source": [
    "print(x_train.shape)\n",
    "print(y_train.shape)\n",
    "print(x_test.shape)\n",
    "print(y_test.shape)"
   ]
  },
  {
   "cell_type": "code",
   "execution_count": 18,
   "id": "86909710",
   "metadata": {},
   "outputs": [],
   "source": [
    "num_classes=10"
   ]
  },
  {
   "cell_type": "code",
   "execution_count": 19,
   "id": "396ab557",
   "metadata": {},
   "outputs": [],
   "source": [
    "model1 = Sequential()\n",
    "model1.add(Conv2D(32, (3, 3), padding= 'same', input_shape= x_train.shape[1:]))\n",
    "model1.add(layers.Activation(activations.relu))\n",
    "model1.add(layers.BatchNormalization())\n",
    "model1.add(Conv2D(32, (3, 3)))\n",
    "model1.add(layers.Activation(activations.relu))\n",
    "model1.add(layers.BatchNormalization())\n",
    "model1.add(layers.MaxPooling2D(pool_size=(2, 2)))\n",
    "model1.add(layers.Dropout(0.25))\n",
    "\n",
    "model1.add(Conv2D(64, (3, 3), padding= 'same'))\n",
    "model1.add(layers.Activation(activations.relu))\n",
    "model1.add(layers.BatchNormalization())\n",
    "model1.add(Conv2D(64, (3, 3)))\n",
    "model1.add(layers.Activation(activations.relu))\n",
    "model1.add(layers.BatchNormalization())\n",
    "model1.add(layers.MaxPooling2D(pool_size=(2, 2)))\n",
    "model1.add(layers.Dropout(0.25))\n",
    "\n",
    "model1.add(Conv2D(128, (3, 3), padding= 'same'))\n",
    "model1.add(layers.Activation(activations.relu))\n",
    "model1.add(layers.BatchNormalization())\n",
    "model1.add(Conv2D(128, (3, 3)))\n",
    "model1.add(layers.Activation(activations.relu))\n",
    "model1.add(layers.BatchNormalization())\n",
    "model1.add(layers.MaxPooling2D(pool_size=(2, 2)))\n",
    "model1.add(layers.Dropout(0.25))\n",
    "\n",
    "model1.add(layers.Flatten())\n",
    "model1.add(layers.Dense(512, kernel_regularizer=regularizers.L2(0.01)))\n",
    "model1.add(layers.Activation(activations.relu))\n",
    "model1.add(layers.Dropout(0.5))\n",
    "model1.add(layers.Dense(num_classes))\n",
    "model1.add(layers.Activation('softmax'))\n"
   ]
  },
  {
   "cell_type": "code",
   "execution_count": null,
   "id": "276c3473",
   "metadata": {},
   "outputs": [],
   "source": []
  },
  {
   "cell_type": "code",
   "execution_count": 20,
   "id": "6860bef2",
   "metadata": {},
   "outputs": [
    {
     "name": "stderr",
     "output_type": "stream",
     "text": [
      "c:\\users\\dear\\appdata\\local\\programs\\python\\python38\\lib\\site-packages\\tensorflow\\python\\keras\\optimizer_v2\\optimizer_v2.py:374: UserWarning: The `lr` argument is deprecated, use `learning_rate` instead.\n",
      "  warnings.warn(\n"
     ]
    }
   ],
   "source": [
    "from tensorflow.keras.optimizers import Adam\n",
    "opt = Adam(lr=0.001)\n",
    "model1.compile(optimizer=opt, loss='categorical_crossentropy', metrics=['accuracy'])"
   ]
  },
  {
   "cell_type": "code",
   "execution_count": 21,
   "id": "2ef4d90f",
   "metadata": {},
   "outputs": [],
   "source": [
    "input_shape = (None,32,32, 3)\n",
    "model1.build(input_shape)"
   ]
  },
  {
   "cell_type": "code",
   "execution_count": 22,
   "id": "305a46b3",
   "metadata": {},
   "outputs": [
    {
     "name": "stdout",
     "output_type": "stream",
     "text": [
      "Model: \"sequential\"\n",
      "_________________________________________________________________\n",
      "Layer (type)                 Output Shape              Param #   \n",
      "=================================================================\n",
      "module_wrapper (ModuleWrappe (None, 32, 32, 32)        896       \n",
      "_________________________________________________________________\n",
      "activation (Activation)      (None, 32, 32, 32)        0         \n",
      "_________________________________________________________________\n",
      "batch_normalization (BatchNo (None, 32, 32, 32)        128       \n",
      "_________________________________________________________________\n",
      "module_wrapper_1 (ModuleWrap (None, 30, 30, 32)        9248      \n",
      "_________________________________________________________________\n",
      "activation_1 (Activation)    (None, 30, 30, 32)        0         \n",
      "_________________________________________________________________\n",
      "batch_normalization_1 (Batch (None, 30, 30, 32)        128       \n",
      "_________________________________________________________________\n",
      "max_pooling2d (MaxPooling2D) (None, 15, 15, 32)        0         \n",
      "_________________________________________________________________\n",
      "dropout (Dropout)            (None, 15, 15, 32)        0         \n",
      "_________________________________________________________________\n",
      "module_wrapper_2 (ModuleWrap (None, 15, 15, 64)        18496     \n",
      "_________________________________________________________________\n",
      "activation_2 (Activation)    (None, 15, 15, 64)        0         \n",
      "_________________________________________________________________\n",
      "batch_normalization_2 (Batch (None, 15, 15, 64)        256       \n",
      "_________________________________________________________________\n",
      "module_wrapper_3 (ModuleWrap (None, 13, 13, 64)        36928     \n",
      "_________________________________________________________________\n",
      "activation_3 (Activation)    (None, 13, 13, 64)        0         \n",
      "_________________________________________________________________\n",
      "batch_normalization_3 (Batch (None, 13, 13, 64)        256       \n",
      "_________________________________________________________________\n",
      "max_pooling2d_1 (MaxPooling2 (None, 6, 6, 64)          0         \n",
      "_________________________________________________________________\n",
      "dropout_1 (Dropout)          (None, 6, 6, 64)          0         \n",
      "_________________________________________________________________\n",
      "module_wrapper_4 (ModuleWrap (None, 6, 6, 128)         73856     \n",
      "_________________________________________________________________\n",
      "activation_4 (Activation)    (None, 6, 6, 128)         0         \n",
      "_________________________________________________________________\n",
      "batch_normalization_4 (Batch (None, 6, 6, 128)         512       \n",
      "_________________________________________________________________\n",
      "module_wrapper_5 (ModuleWrap (None, 4, 4, 128)         147584    \n",
      "_________________________________________________________________\n",
      "activation_5 (Activation)    (None, 4, 4, 128)         0         \n",
      "_________________________________________________________________\n",
      "batch_normalization_5 (Batch (None, 4, 4, 128)         512       \n",
      "_________________________________________________________________\n",
      "max_pooling2d_2 (MaxPooling2 (None, 2, 2, 128)         0         \n",
      "_________________________________________________________________\n",
      "dropout_2 (Dropout)          (None, 2, 2, 128)         0         \n",
      "_________________________________________________________________\n",
      "flatten (Flatten)            (None, 512)               0         \n",
      "_________________________________________________________________\n",
      "dense (Dense)                (None, 512)               262656    \n",
      "_________________________________________________________________\n",
      "activation_6 (Activation)    (None, 512)               0         \n",
      "_________________________________________________________________\n",
      "dropout_3 (Dropout)          (None, 512)               0         \n",
      "_________________________________________________________________\n",
      "dense_1 (Dense)              (None, 10)                5130      \n",
      "_________________________________________________________________\n",
      "activation_7 (Activation)    (None, 10)                0         \n",
      "=================================================================\n",
      "Total params: 556,586\n",
      "Trainable params: 555,690\n",
      "Non-trainable params: 896\n",
      "_________________________________________________________________\n"
     ]
    }
   ],
   "source": [
    "model1.summary()"
   ]
  },
  {
   "cell_type": "code",
   "execution_count": 23,
   "id": "9e30c46b",
   "metadata": {},
   "outputs": [
    {
     "name": "stdout",
     "output_type": "stream",
     "text": [
      "Epoch 1/30\n",
      "29/29 [==============================] - 18s 512ms/step - loss: 7.3583 - accuracy: 0.3433 - val_loss: 10.8669 - val_accuracy: 0.1800\n",
      "Epoch 2/30\n",
      "29/29 [==============================] - 12s 403ms/step - loss: 5.8528 - accuracy: 0.5844 - val_loss: 9.2351 - val_accuracy: 0.2200\n",
      "Epoch 3/30\n",
      "29/29 [==============================] - 10s 349ms/step - loss: 5.2778 - accuracy: 0.6378 - val_loss: 6.1302 - val_accuracy: 0.4300\n",
      "Epoch 4/30\n",
      "29/29 [==============================] - 13s 437ms/step - loss: 4.7866 - accuracy: 0.6733 - val_loss: 6.0368 - val_accuracy: 0.4400\n",
      "Epoch 5/30\n",
      "29/29 [==============================] - 10s 346ms/step - loss: 4.2242 - accuracy: 0.7122 - val_loss: 4.3121 - val_accuracy: 0.6400\n",
      "Epoch 6/30\n",
      "29/29 [==============================] - 13s 446ms/step - loss: 3.8644 - accuracy: 0.7367 - val_loss: 4.1254 - val_accuracy: 0.6500\n",
      "Epoch 7/30\n",
      "29/29 [==============================] - 14s 504ms/step - loss: 3.4901 - accuracy: 0.7556 - val_loss: 3.7139 - val_accuracy: 0.6400\n",
      "Epoch 8/30\n",
      "29/29 [==============================] - 11s 365ms/step - loss: 3.2029 - accuracy: 0.7589 - val_loss: 3.4473 - val_accuracy: 0.6800\n",
      "Epoch 9/30\n",
      "29/29 [==============================] - 15s 532ms/step - loss: 2.8578 - accuracy: 0.7867 - val_loss: 3.4197 - val_accuracy: 0.6600\n",
      "Epoch 10/30\n",
      "29/29 [==============================] - 13s 463ms/step - loss: 2.5850 - accuracy: 0.8011 - val_loss: 3.3486 - val_accuracy: 0.6200\n",
      "Epoch 11/30\n",
      "29/29 [==============================] - 12s 409ms/step - loss: 2.3419 - accuracy: 0.8144 - val_loss: 2.6348 - val_accuracy: 0.7900\n",
      "Epoch 12/30\n",
      "29/29 [==============================] - 14s 492ms/step - loss: 2.1157 - accuracy: 0.8378 - val_loss: 2.8150 - val_accuracy: 0.7100\n",
      "Epoch 13/30\n",
      "29/29 [==============================] - 14s 475ms/step - loss: 1.9622 - accuracy: 0.8444 - val_loss: 2.4077 - val_accuracy: 0.8100\n",
      "Epoch 14/30\n",
      "29/29 [==============================] - 13s 444ms/step - loss: 1.7318 - accuracy: 0.8767 - val_loss: 2.1668 - val_accuracy: 0.7900\n",
      "Epoch 15/30\n",
      "29/29 [==============================] - 16s 544ms/step - loss: 1.5834 - accuracy: 0.8800 - val_loss: 2.0946 - val_accuracy: 0.7900\n",
      "Epoch 16/30\n",
      "29/29 [==============================] - 13s 452ms/step - loss: 1.4347 - accuracy: 0.8911 - val_loss: 1.8973 - val_accuracy: 0.8300\n",
      "Epoch 17/30\n",
      "29/29 [==============================] - 15s 517ms/step - loss: 1.2474 - accuracy: 0.9222 - val_loss: 1.8520 - val_accuracy: 0.8200\n",
      "Epoch 18/30\n",
      "29/29 [==============================] - 17s 564ms/step - loss: 1.1583 - accuracy: 0.9167 - val_loss: 1.8206 - val_accuracy: 0.8100\n",
      "Epoch 19/30\n",
      "29/29 [==============================] - 15s 537ms/step - loss: 1.1619 - accuracy: 0.8844 - val_loss: 1.8375 - val_accuracy: 0.7600\n",
      "Epoch 20/30\n",
      "29/29 [==============================] - 15s 524ms/step - loss: 0.9847 - accuracy: 0.9289 - val_loss: 1.6989 - val_accuracy: 0.7800\n",
      "Epoch 21/30\n",
      "29/29 [==============================] - 13s 448ms/step - loss: 0.9673 - accuracy: 0.9111 - val_loss: 1.7150 - val_accuracy: 0.7200\n",
      "Epoch 22/30\n",
      "29/29 [==============================] - 15s 537ms/step - loss: 0.8931 - accuracy: 0.9122 - val_loss: 1.6192 - val_accuracy: 0.8000\n",
      "Epoch 23/30\n",
      "29/29 [==============================] - 16s 543ms/step - loss: 0.7994 - accuracy: 0.9256 - val_loss: 1.5823 - val_accuracy: 0.7500\n",
      "Epoch 24/30\n",
      "29/29 [==============================] - 14s 494ms/step - loss: 0.7105 - accuracy: 0.9456 - val_loss: 1.4576 - val_accuracy: 0.8100\n",
      "Epoch 25/30\n",
      "29/29 [==============================] - 14s 471ms/step - loss: 0.7712 - accuracy: 0.9000 - val_loss: 1.7222 - val_accuracy: 0.8000\n",
      "Epoch 26/30\n",
      "29/29 [==============================] - 16s 544ms/step - loss: 0.6870 - accuracy: 0.9333 - val_loss: 1.4040 - val_accuracy: 0.8400\n",
      "Epoch 27/30\n",
      "29/29 [==============================] - 16s 541ms/step - loss: 0.6065 - accuracy: 0.9433 - val_loss: 1.3703 - val_accuracy: 0.8300\n",
      "Epoch 28/30\n",
      "29/29 [==============================] - 17s 596ms/step - loss: 0.5871 - accuracy: 0.9422 - val_loss: 1.4774 - val_accuracy: 0.7300\n",
      "Epoch 29/30\n",
      "29/29 [==============================] - 18s 611ms/step - loss: 0.5238 - accuracy: 0.9622 - val_loss: 1.3462 - val_accuracy: 0.8000\n",
      "Epoch 30/30\n",
      "29/29 [==============================] - 19s 652ms/step - loss: 0.4745 - accuracy: 0.9600 - val_loss: 1.4812 - val_accuracy: 0.7700\n"
     ]
    }
   ],
   "source": [
    "from keras.callbacks import ModelCheckpoint, EarlyStopping\n",
    "#checkpoint = ModelCheckpoint(\"vgg16_1.h5\", monitor='val_acc', verbose=1, save_best_only=True, save_weights_only=False, mode='auto', period=1)\n",
    "early_stop = EarlyStopping(monitor='val_loss',patience=2)\n",
    "#x_tr=x_train.reshape(900,18,16,1)\n",
    "#x_ts=x_test.reshape(100,18,16,1)\n",
    "\n",
    "hist = model1.fit(x_train,y_train, validation_data=(x_test,y_test), validation_steps=10,epochs=30, callbacks=[early_stop])"
   ]
  },
  {
   "cell_type": "code",
   "execution_count": 24,
   "id": "74e18c8a",
   "metadata": {},
   "outputs": [
    {
     "name": "stdout",
     "output_type": "stream",
     "text": [
      "4/4 [==============================] - 1s 92ms/step - loss: 1.4812 - accuracy: 0.7700\n"
     ]
    },
    {
     "data": {
      "text/plain": [
       "[1.4812421798706055, 0.7699999809265137]"
      ]
     },
     "execution_count": 24,
     "metadata": {},
     "output_type": "execute_result"
    }
   ],
   "source": [
    "model1.evaluate(x_test\n",
    "                ,y_test)"
   ]
  },
  {
   "cell_type": "code",
   "execution_count": 25,
   "id": "5037b3a9",
   "metadata": {},
   "outputs": [
    {
     "name": "stderr",
     "output_type": "stream",
     "text": [
      "c:\\users\\dear\\appdata\\local\\programs\\python\\python38\\lib\\site-packages\\tensorflow\\python\\keras\\engine\\sequential.py:455: UserWarning: `model.predict_classes()` is deprecated and will be removed after 2021-01-01. Please use instead:* `np.argmax(model.predict(x), axis=-1)`,   if your model does multi-class classification   (e.g. if it uses a `softmax` last-layer activation).* `(model.predict(x) > 0.5).astype(\"int32\")`,   if your model does binary classification   (e.g. if it uses a `sigmoid` last-layer activation).\n",
      "  warnings.warn('`model.predict_classes()` is deprecated and '\n"
     ]
    }
   ],
   "source": [
    "y_pred=model1.predict_classes(x_test)"
   ]
  },
  {
   "cell_type": "code",
   "execution_count": 26,
   "id": "560141c0",
   "metadata": {},
   "outputs": [
    {
     "data": {
      "text/plain": [
       "array([8, 5, 7, 4, 4, 5, 2, 8, 1, 7, 1, 3, 8, 8, 7, 0, 7, 7, 1, 3, 7, 8,\n",
       "       2, 4, 6, 1, 4, 5, 0, 7, 8, 4, 8, 2, 7, 8, 6, 6, 0, 1, 4, 3, 0, 6,\n",
       "       2, 1, 8, 2, 6, 1, 2, 0, 1, 8, 8, 7, 4, 6, 8, 8, 5, 5, 5, 4, 5, 6,\n",
       "       4, 6, 6, 9, 7, 4, 4, 4, 9, 5, 7, 3, 9, 5, 6, 8, 3, 2, 7, 0, 2, 8,\n",
       "       2, 8, 9, 7, 8, 8, 2, 6, 8, 1, 7, 5], dtype=int64)"
      ]
     },
     "execution_count": 26,
     "metadata": {},
     "output_type": "execute_result"
    }
   ],
   "source": [
    "y_pred"
   ]
  },
  {
   "cell_type": "code",
   "execution_count": 27,
   "id": "07a3baae",
   "metadata": {},
   "outputs": [
    {
     "data": {
      "text/plain": [
       "array([8, 5, 7, 4, 4, 3, 2, 8, 1, 0, 1, 3, 7, 3, 9, 0, 7, 7, 1, 3, 5, 8,\n",
       "       2, 4, 6, 1, 4, 9, 0, 7, 1, 4, 8, 2, 9, 0, 6, 6, 3, 1, 4, 3, 0, 9,\n",
       "       2, 1, 8, 2, 6, 1, 2, 0, 1, 3, 0, 7, 0, 6, 3, 8, 5, 9, 5, 4, 5, 6,\n",
       "       4, 6, 6, 9, 7, 4, 5, 4, 9, 5, 7, 3, 9, 5, 6, 8, 3, 2, 0, 5, 2, 0,\n",
       "       2, 8, 9, 7, 8, 8, 2, 6, 7, 1, 9, 5], dtype=int64)"
      ]
     },
     "execution_count": 27,
     "metadata": {},
     "output_type": "execute_result"
    }
   ],
   "source": [
    "testttt=np.argmax(y_test,axis=-1)\n",
    "testttt"
   ]
  },
  {
   "cell_type": "code",
   "execution_count": 28,
   "id": "4eb1a0fa",
   "metadata": {},
   "outputs": [],
   "source": [
    "y_pred_enc = tf.keras.utils.to_categorical(y_pred,10)"
   ]
  },
  {
   "cell_type": "code",
   "execution_count": 29,
   "id": "702c1b69",
   "metadata": {},
   "outputs": [
    {
     "name": "stdout",
     "output_type": "stream",
     "text": [
      "              precision    recall  f1-score   support\n",
      "\n",
      "           0       0.67      0.40      0.50        10\n",
      "           1       1.00      0.90      0.95        10\n",
      "           2       1.00      1.00      1.00        10\n",
      "           3       1.00      0.50      0.67        10\n",
      "           4       0.83      1.00      0.91        10\n",
      "           5       0.70      0.70      0.70        10\n",
      "           6       0.91      1.00      0.95        10\n",
      "           7       0.57      0.80      0.67        10\n",
      "           8       0.53      1.00      0.69        10\n",
      "           9       1.00      0.40      0.57        10\n",
      "\n",
      "   micro avg       0.77      0.77      0.77       100\n",
      "   macro avg       0.82      0.77      0.76       100\n",
      "weighted avg       0.82      0.77      0.76       100\n",
      " samples avg       0.77      0.77      0.77       100\n",
      "\n"
     ]
    }
   ],
   "source": [
    "import sklearn\n",
    "from sklearn.model_selection import train_test_split\n",
    "print(sklearn.metrics.classification_report(y_test,y_pred_enc))"
   ]
  },
  {
   "cell_type": "code",
   "execution_count": 30,
   "id": "dbd86614",
   "metadata": {},
   "outputs": [
    {
     "name": "stdout",
     "output_type": "stream",
     "text": [
      "29/29 [==============================] - 3s 117ms/step - loss: 0.5283 - accuracy: 0.9389\n"
     ]
    }
   ],
   "source": [
    "#train accuracy\n",
    "accuracy = model1.evaluate(x_train, y_train)"
   ]
  },
  {
   "cell_type": "code",
   "execution_count": 31,
   "id": "8bdcdd41",
   "metadata": {},
   "outputs": [],
   "source": [
    "from sklearn.metrics import accuracy_score"
   ]
  },
  {
   "cell_type": "code",
   "execution_count": 32,
   "id": "07b0484c",
   "metadata": {},
   "outputs": [
    {
     "data": {
      "text/plain": [
       "0.71"
      ]
     },
     "execution_count": 32,
     "metadata": {},
     "output_type": "execute_result"
    }
   ],
   "source": [
    "#test accuracy \n",
    "y_pred = (model1.predict(x_test) > 0.5).astype(\"int32\")\n",
    "y_pred\n",
    "accuracy_score(y_test, y_pred)"
   ]
  },
  {
   "cell_type": "code",
   "execution_count": 43,
   "id": "ec63a35d",
   "metadata": {},
   "outputs": [],
   "source": [
    "import matplotlib\n",
    "import matplotlib.pyplot "
   ]
  },
  {
   "cell_type": "code",
   "execution_count": 46,
   "id": "e724a2c4",
   "metadata": {
    "scrolled": true
   },
   "outputs": [],
   "source": [
    "classes = ['beaches','bus', 'dinosaurs', 'elephants', 'flowers', 'foods','horses', 'monuments', 'mountains_and_snow', 'people_and_villages_in_Africa']"
   ]
  },
  {
   "cell_type": "code",
   "execution_count": 57,
   "id": "1bfd0b59",
   "metadata": {},
   "outputs": [
    {
     "data": {
      "text/plain": [
       "array([0., 0., 0., 0., 0., 0., 0., 0., 1., 0.], dtype=float32)"
      ]
     },
     "execution_count": 57,
     "metadata": {},
     "output_type": "execute_result"
    }
   ],
   "source": [
    "y_test[:10]"
   ]
  },
  {
   "cell_type": "code",
   "execution_count": 76,
   "id": "9a01e403",
   "metadata": {},
   "outputs": [],
   "source": [
    "def plot_sample(x,y,index):\n",
    "    plt.figure(figsize = (32,2))\n",
    "    plt.imshow(x_test[index])\n",
    "    plt.xlabel(classes[index])\n"
   ]
  },
  {
   "cell_type": "code",
   "execution_count": 79,
   "id": "dc469f63",
   "metadata": {},
   "outputs": [
    {
     "data": {
      "image/png": "[encoded data removed]",
      "text/plain": [
       "<Figure size 2304x144 with 1 Axes>"
      ]
     },
     "metadata": {
      "needs_background": "light"
     },
     "output_type": "display_data"
    }
   ],
   "source": [
    "plot_sample(x_test,y_test,0)"
   ]
  },
  {
   "cell_type": "code",
   "execution_count": 88,
   "id": "5e7f91e1",
   "metadata": {},
   "outputs": [
    {
     "ename": "TypeError",
     "evalue": "list indices must be integers or slices, not function",
     "output_type": "error",
     "traceback": [
      "\u001b[1;31m---------------------------------------------------------------------------\u001b[0m",
      "\u001b[1;31mTypeError\u001b[0m                                 Traceback (most recent call last)",
      "Input \u001b[1;32mIn [88]\u001b[0m, in \u001b[0;36m<cell line: 1>\u001b[1;34m()\u001b[0m\n\u001b[1;32m----> 1\u001b[0m \u001b[43mclasses\u001b[49m\u001b[43m[\u001b[49m\u001b[43mplot_sample\u001b[49m\u001b[43m]\u001b[49m\n",
      "\u001b[1;31mTypeError\u001b[0m: list indices must be integers or slices, not function"
     ]
    }
   ],
   "source": [
    "classes[plot_sample]"
   ]
  },
  {
   "cell_type": "code",
   "execution_count": 72,
   "id": "6f9ec905",
   "metadata": {},
   "outputs": [
    {
     "data": {
      "text/plain": [
       "[8,\n",
       " 5,\n",
       " 7,\n",
       " 4,\n",
       " 4,\n",
       " 5,\n",
       " 2,\n",
       " 8,\n",
       " 1,\n",
       " 7,\n",
       " 1,\n",
       " 3,\n",
       " 8,\n",
       " 8,\n",
       " 7,\n",
       " 0,\n",
       " 7,\n",
       " 7,\n",
       " 1,\n",
       " 3,\n",
       " 7,\n",
       " 8,\n",
       " 2,\n",
       " 4,\n",
       " 6,\n",
       " 1,\n",
       " 4,\n",
       " 5,\n",
       " 0,\n",
       " 7,\n",
       " 8,\n",
       " 4,\n",
       " 8,\n",
       " 2,\n",
       " 7,\n",
       " 8,\n",
       " 6,\n",
       " 6,\n",
       " 0,\n",
       " 1,\n",
       " 4,\n",
       " 3,\n",
       " 0,\n",
       " 6,\n",
       " 2,\n",
       " 1,\n",
       " 8,\n",
       " 2,\n",
       " 6,\n",
       " 1,\n",
       " 2,\n",
       " 0,\n",
       " 1,\n",
       " 8,\n",
       " 8,\n",
       " 7,\n",
       " 4,\n",
       " 6,\n",
       " 8,\n",
       " 8,\n",
       " 5,\n",
       " 5,\n",
       " 5,\n",
       " 4,\n",
       " 5,\n",
       " 6,\n",
       " 4,\n",
       " 6,\n",
       " 6,\n",
       " 9,\n",
       " 7,\n",
       " 4,\n",
       " 4,\n",
       " 4,\n",
       " 9,\n",
       " 5,\n",
       " 7,\n",
       " 3,\n",
       " 9,\n",
       " 5,\n",
       " 6,\n",
       " 8,\n",
       " 3,\n",
       " 2,\n",
       " 7,\n",
       " 0,\n",
       " 2,\n",
       " 8,\n",
       " 2,\n",
       " 8,\n",
       " 9,\n",
       " 7,\n",
       " 8,\n",
       " 8,\n",
       " 2,\n",
       " 6,\n",
       " 8,\n",
       " 1,\n",
       " 7,\n",
       " 5]"
      ]
     },
     "execution_count": 72,
     "metadata": {},
     "output_type": "execute_result"
    }
   ],
   "source": [
    "y_pred = model1.predict(x_test)\n",
    "cnn_y_pred_classes = [np.argmax(element) for element in y_pred]\n",
    "cnn_y_pred_classes[:100]"
   ]
  },
  {
   "cell_type": "code",
   "execution_count": 83,
   "id": "ff63f17a",
   "metadata": {},
   "outputs": [
    {
     "data": {
      "text/plain": [
       "'beaches'"
      ]
     },
     "execution_count": 83,
     "metadata": {},
     "output_type": "execute_result"
    }
   ],
   "source": [
    "classes[cnn_y_pred_classes[15]]"
   ]
  },
  {
   "cell_type": "code",
   "execution_count": null,
   "id": "1bdc6b81",
   "metadata": {},
   "outputs": [],
   "source": []
  }
 ],
 "metadata": {
  "kernelspec": {
   "display_name": "Python 3 (ipykernel)",
   "language": "python",
   "name": "python3"
  },
  "language_info": {
   "codemirror_mode": {
    "name": "ipython",
    "version": 3
   },
   "file_extension": ".py",
   "mimetype": "text/x-python",
   "name": "python",
   "nbconvert_exporter": "python",
   "pygments_lexer": "ipython3",
   "version": "3.8.10"
  }
 },
 "nbformat": 4,
 "nbformat_minor": 5
}
